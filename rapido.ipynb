{
 "cells": [
  {
   "cell_type": "markdown",
   "id": "1f5c7d9a-fb74-4a46-8f4a-d6c3315b6f7b",
   "metadata": {},
   "source": [
    "### Title:Optimizing Ride Services Through Demand Prediction"
   ]
  },
  {
   "cell_type": "markdown",
   "id": "e9d63af6-6219-4600-b949-3469e7406847",
   "metadata": {},
   "source": [
    "#### Problem Statement\n",
    "##### In urban areas, ride-hailing demand varies based on factors like time of day and location, impacting driver availability and passenger wait times. This project aims to develop a machine learning model to classify ride demand levels (Low, Medium, High) using features such as hour of the day and pickup location (source). By accurately predicting demand patterns, the model will help ride-hailing services optimize driver allocation, reduce wait times, and improve operational efficiency, leading to better customer satisfaction and data-driven decision-making."
   ]
  },
  {
   "cell_type": "markdown",
   "id": "6909d708-77fa-41a4-967d-d919fbca7a2d",
   "metadata": {},
   "source": [
    "#### Importing required libraries"
   ]
  },
  {
   "cell_type": "code",
   "execution_count": 1,
   "id": "6ab2bf16-d98d-42b9-b62d-65a28aac07a3",
   "metadata": {},
   "outputs": [],
   "source": [
    "import numpy as np  #Used for mathematical calculations\n",
    "import pandas as pd  #used for efficiently handling structured data which is in tabular format."
   ]
  },
  {
   "cell_type": "code",
   "execution_count": 3,
   "id": "2dee7b63-7650-4922-9e49-064e0c59699e",
   "metadata": {},
   "outputs": [],
   "source": [
    "#reading the dataset using pandas\n",
    "df=pd.read_csv('rides_data.csv')"
   ]
  },
  {
   "cell_type": "code",
   "execution_count": 5,
   "id": "8123ffd5-fb71-438f-bc29-87e9ebfe73b0",
   "metadata": {},
   "outputs": [
    {
     "data": {
      "text/plain": [
       "Index(['services', 'date', 'time', 'ride_status', 'source', 'destination',\n",
       "       'duration', 'ride_id', 'distance', 'ride_charge', 'misc_charge',\n",
       "       'total_fare', 'payment_method'],\n",
       "      dtype='object')"
      ]
     },
     "execution_count": 5,
     "metadata": {},
     "output_type": "execute_result"
    }
   ],
   "source": [
    "#used to get the list of the columns\n",
    "df.columns"
   ]
  },
  {
   "cell_type": "code",
   "execution_count": 7,
   "id": "0f7c1443-0e8b-4b52-8fb8-16334f9c4741",
   "metadata": {},
   "outputs": [
    {
     "data": {
      "text/html": [
       "<div>\n",
       "<style scoped>\n",
       "    .dataframe tbody tr th:only-of-type {\n",
       "        vertical-align: middle;\n",
       "    }\n",
       "\n",
       "    .dataframe tbody tr th {\n",
       "        vertical-align: top;\n",
       "    }\n",
       "\n",
       "    .dataframe thead th {\n",
       "        text-align: right;\n",
       "    }\n",
       "</style>\n",
       "<table border=\"1\" class=\"dataframe\">\n",
       "  <thead>\n",
       "    <tr style=\"text-align: right;\">\n",
       "      <th></th>\n",
       "      <th>services</th>\n",
       "      <th>date</th>\n",
       "      <th>time</th>\n",
       "      <th>ride_status</th>\n",
       "      <th>source</th>\n",
       "      <th>destination</th>\n",
       "      <th>duration</th>\n",
       "      <th>ride_id</th>\n",
       "      <th>distance</th>\n",
       "      <th>ride_charge</th>\n",
       "      <th>misc_charge</th>\n",
       "      <th>total_fare</th>\n",
       "      <th>payment_method</th>\n",
       "    </tr>\n",
       "  </thead>\n",
       "  <tbody>\n",
       "    <tr>\n",
       "      <th>0</th>\n",
       "      <td>cab economy</td>\n",
       "      <td>2024-07-15</td>\n",
       "      <td>08:30:40.542646</td>\n",
       "      <td>completed</td>\n",
       "      <td>Balagere Harbor</td>\n",
       "      <td>Harohalli Nagar</td>\n",
       "      <td>39</td>\n",
       "      <td>RD3161218751875354</td>\n",
       "      <td>27.21</td>\n",
       "      <td>764.83</td>\n",
       "      <td>31.51</td>\n",
       "      <td>796.34</td>\n",
       "      <td>Amazon Pay</td>\n",
       "    </tr>\n",
       "    <tr>\n",
       "      <th>1</th>\n",
       "      <td>auto</td>\n",
       "      <td>2024-07-05</td>\n",
       "      <td>23:36:51.542646</td>\n",
       "      <td>completed</td>\n",
       "      <td>Basavanagudi 3rd Block</td>\n",
       "      <td>Bikasipura 1st Stage</td>\n",
       "      <td>89</td>\n",
       "      <td>RD8171514284594096</td>\n",
       "      <td>34.03</td>\n",
       "      <td>314.83</td>\n",
       "      <td>49.52</td>\n",
       "      <td>364.35</td>\n",
       "      <td>Paytm</td>\n",
       "    </tr>\n",
       "    <tr>\n",
       "      <th>2</th>\n",
       "      <td>auto</td>\n",
       "      <td>2024-07-23</td>\n",
       "      <td>11:05:37.542646</td>\n",
       "      <td>cancelled</td>\n",
       "      <td>Babusapalya Cove</td>\n",
       "      <td>Kothaguda Terrace</td>\n",
       "      <td>25</td>\n",
       "      <td>RD9376481122237926</td>\n",
       "      <td>20.24</td>\n",
       "      <td>NaN</td>\n",
       "      <td>NaN</td>\n",
       "      <td>NaN</td>\n",
       "      <td>NaN</td>\n",
       "    </tr>\n",
       "    <tr>\n",
       "      <th>3</th>\n",
       "      <td>cab economy</td>\n",
       "      <td>2024-06-24</td>\n",
       "      <td>08:45:10.542646</td>\n",
       "      <td>completed</td>\n",
       "      <td>Mahadevapura Mews</td>\n",
       "      <td>Kanakapura Arc</td>\n",
       "      <td>89</td>\n",
       "      <td>RD3676889143182765</td>\n",
       "      <td>31.17</td>\n",
       "      <td>484.73</td>\n",
       "      <td>15.84</td>\n",
       "      <td>500.57</td>\n",
       "      <td>QR scan</td>\n",
       "    </tr>\n",
       "    <tr>\n",
       "      <th>4</th>\n",
       "      <td>cab economy</td>\n",
       "      <td>2024-07-15</td>\n",
       "      <td>00:26:44.542646</td>\n",
       "      <td>completed</td>\n",
       "      <td>Ganganagar Cove</td>\n",
       "      <td>Basaveshwaranagar Colony</td>\n",
       "      <td>95</td>\n",
       "      <td>RD6639410275948084</td>\n",
       "      <td>27.21</td>\n",
       "      <td>663.50</td>\n",
       "      <td>14.13</td>\n",
       "      <td>677.63</td>\n",
       "      <td>Amazon Pay</td>\n",
       "    </tr>\n",
       "  </tbody>\n",
       "</table>\n",
       "</div>"
      ],
      "text/plain": [
       "      services        date             time ride_status  \\\n",
       "0  cab economy  2024-07-15  08:30:40.542646   completed   \n",
       "1         auto  2024-07-05  23:36:51.542646   completed   \n",
       "2         auto  2024-07-23  11:05:37.542646   cancelled   \n",
       "3  cab economy  2024-06-24  08:45:10.542646   completed   \n",
       "4  cab economy  2024-07-15  00:26:44.542646   completed   \n",
       "\n",
       "                   source               destination  duration  \\\n",
       "0         Balagere Harbor           Harohalli Nagar        39   \n",
       "1  Basavanagudi 3rd Block      Bikasipura 1st Stage        89   \n",
       "2        Babusapalya Cove         Kothaguda Terrace        25   \n",
       "3       Mahadevapura Mews            Kanakapura Arc        89   \n",
       "4         Ganganagar Cove  Basaveshwaranagar Colony        95   \n",
       "\n",
       "              ride_id  distance  ride_charge  misc_charge  total_fare  \\\n",
       "0  RD3161218751875354     27.21       764.83        31.51      796.34   \n",
       "1  RD8171514284594096     34.03       314.83        49.52      364.35   \n",
       "2  RD9376481122237926     20.24          NaN          NaN         NaN   \n",
       "3  RD3676889143182765     31.17       484.73        15.84      500.57   \n",
       "4  RD6639410275948084     27.21       663.50        14.13      677.63   \n",
       "\n",
       "  payment_method  \n",
       "0     Amazon Pay  \n",
       "1          Paytm  \n",
       "2            NaN  \n",
       "3        QR scan  \n",
       "4     Amazon Pay  "
      ]
     },
     "execution_count": 7,
     "metadata": {},
     "output_type": "execute_result"
    }
   ],
   "source": [
    "#used to check the top values from the datset\n",
    "df.head()"
   ]
  },
  {
   "cell_type": "code",
   "execution_count": 9,
   "id": "4bde9a77-50f3-4a92-a5c5-c93db523c7a8",
   "metadata": {},
   "outputs": [
    {
     "name": "stdout",
     "output_type": "stream",
     "text": [
      "No.of Rows are 50000\n",
      "No.of Columns are 13\n"
     ]
    }
   ],
   "source": [
    "#provides the dimensionn of the Dataframe\n",
    "df.shape\n",
    "print(\"No.of Rows are\",df.shape[0])\n",
    "print(\"No.of Columns are\",df.shape[1])\n"
   ]
  },
  {
   "cell_type": "markdown",
   "id": "d11feb2f-7fca-431d-a2b2-d038b0921dd1",
   "metadata": {},
   "source": [
    "#### Checking is there any duplicate values"
   ]
  },
  {
   "cell_type": "code",
   "execution_count": 11,
   "id": "875c788c-3c57-4eae-8e40-0dfd483883ea",
   "metadata": {},
   "outputs": [
    {
     "name": "stdout",
     "output_type": "stream",
     "text": [
      "\n",
      "Duplicate Rows:\n",
      "Empty DataFrame\n",
      "Columns: [services, date, time, ride_status, source, destination, duration, ride_id, distance, ride_charge, misc_charge, total_fare, payment_method]\n",
      "Index: []\n"
     ]
    }
   ],
   "source": [
    "#checking whether there is any duplicate values.\n",
    "duplicate_rows = df[df.duplicated()] \n",
    "print(\"\\nDuplicate Rows:\") \n",
    "print(duplicate_rows)"
   ]
  },
  {
   "cell_type": "markdown",
   "id": "a8fff202-7896-46c3-bf52-3d457bb25bb9",
   "metadata": {},
   "source": [
    "#### Checking for Missing Values"
   ]
  },
  {
   "cell_type": "code",
   "execution_count": 13,
   "id": "714d1098-023e-44e7-b1c1-4fc84f2bfbb2",
   "metadata": {},
   "outputs": [
    {
     "data": {
      "text/plain": [
       "services             0\n",
       "date                 0\n",
       "time                 0\n",
       "ride_status          0\n",
       "source               0\n",
       "destination          0\n",
       "duration             0\n",
       "ride_id              0\n",
       "distance             0\n",
       "ride_charge       5036\n",
       "misc_charge       5036\n",
       "total_fare        5036\n",
       "payment_method    5036\n",
       "dtype: int64"
      ]
     },
     "execution_count": 13,
     "metadata": {},
     "output_type": "execute_result"
    }
   ],
   "source": [
    "#to count the number of null values in the dataset\n",
    "df.isnull().sum()\n"
   ]
  },
  {
   "cell_type": "markdown",
   "id": "d9975e22-f37b-4fcf-b2a1-715860aa8fd1",
   "metadata": {},
   "source": [
    "#### Finding out is there any pattern within the missing values"
   ]
  },
  {
   "cell_type": "code",
   "execution_count": 21,
   "id": "25ab9991-c25c-4ca4-971e-2f9a4d18be6e",
   "metadata": {},
   "outputs": [
    {
     "name": "stdout",
     "output_type": "stream",
     "text": [
      "Missing values in cancelled rides:\n",
      " services             0\n",
      "date                 0\n",
      "time                 0\n",
      "ride_status          0\n",
      "source               0\n",
      "destination          0\n",
      "duration             0\n",
      "ride_id              0\n",
      "distance             0\n",
      "ride_charge       5036\n",
      "misc_charge       5036\n",
      "total_fare        5036\n",
      "payment_method    5036\n",
      "dtype: int64\n",
      "\n",
      "Missing values in non-cancelled rides:\n",
      " services          0\n",
      "date              0\n",
      "time              0\n",
      "ride_status       0\n",
      "source            0\n",
      "destination       0\n",
      "duration          0\n",
      "ride_id           0\n",
      "distance          0\n",
      "ride_charge       0\n",
      "misc_charge       0\n",
      "total_fare        0\n",
      "payment_method    0\n",
      "dtype: int64\n"
     ]
    }
   ],
   "source": [
    "# Check if missing values only occur for canceled rides\n",
    "cancelled_rides = df[df['ride_status'] == 'cancelled'].isnull().sum()\n",
    "\n",
    "# Check non-cancelled rides to confirm they don’t have missing values\n",
    "non_cancelled_rides = df[df['ride_status'] != 'cancelled'].isnull().sum()\n",
    "\n",
    "# Display results\n",
    "print(\"Missing values in cancelled rides:\\n\", cancelled_rides)\n",
    "print(\"\\nMissing values in non-cancelled rides:\\n\", non_cancelled_rides)\n"
   ]
  },
  {
   "cell_type": "markdown",
   "id": "22610f0c-2d4c-4fc6-a450-fc8864c37436",
   "metadata": {},
   "source": [
    "#### Filling missing values with suitable values"
   ]
  },
  {
   "cell_type": "code",
   "execution_count": 30,
   "id": "37cb0f8c-b58f-4a67-8a1d-1d181cb2ce46",
   "metadata": {},
   "outputs": [
    {
     "data": {
      "text/plain": [
       "services          0\n",
       "date              0\n",
       "time              0\n",
       "ride_status       0\n",
       "source            0\n",
       "destination       0\n",
       "duration          0\n",
       "ride_id           0\n",
       "distance          0\n",
       "ride_charge       0\n",
       "misc_charge       0\n",
       "total_fare        0\n",
       "payment_method    0\n",
       "dtype: int64"
      ]
     },
     "execution_count": 30,
     "metadata": {},
     "output_type": "execute_result"
    }
   ],
   "source": [
    "'''Use a distinct placeholder: Instead of 0, we could fill missing values \n",
    "with something like \"N/A\" or \"Not Applicable\" for payment_method and maybe -1 \n",
    "for numerical fields — making it clearer these fields don’t apply, rather than suggesting a zero value.'''\n",
    "# Fill missing numerical fields with -1 and payment method with 'Not Appliable'\n",
    "\n",
    "\n",
    "df['ride_charge'] = df['ride_charge'].fillna(-1)  # Handle 'ride_charge' column\n",
    "df['misc_charge'] = df['misc_charge'].fillna(-1)  # Handle 'misc_charge' column\n",
    "df['total_fare'] = df['total_fare'].fillna(-1)    # Handle 'total_fare' column\n",
    "df['payment_method'] = df['payment_method'].fillna('Not Applicable')  # Handle 'payment_method' column\n",
    "\n",
    "\n",
    "# Confirm changes\n",
    "df.isnull().sum()\n"
   ]
  },
  {
   "cell_type": "markdown",
   "id": "b8eccc32-ac80-49af-b202-93d4c63c7cfb",
   "metadata": {},
   "source": [
    "#### Handling inconsistent data formats"
   ]
  },
  {
   "cell_type": "code",
   "execution_count": 33,
   "id": "65f291bd-8e45-4616-adf1-b746c666d427",
   "metadata": {},
   "outputs": [
    {
     "data": {
      "text/html": [
       "<div>\n",
       "<style scoped>\n",
       "    .dataframe tbody tr th:only-of-type {\n",
       "        vertical-align: middle;\n",
       "    }\n",
       "\n",
       "    .dataframe tbody tr th {\n",
       "        vertical-align: top;\n",
       "    }\n",
       "\n",
       "    .dataframe thead th {\n",
       "        text-align: right;\n",
       "    }\n",
       "</style>\n",
       "<table border=\"1\" class=\"dataframe\">\n",
       "  <thead>\n",
       "    <tr style=\"text-align: right;\">\n",
       "      <th></th>\n",
       "      <th>services</th>\n",
       "      <th>date</th>\n",
       "      <th>time</th>\n",
       "      <th>ride_status</th>\n",
       "      <th>source</th>\n",
       "      <th>destination</th>\n",
       "      <th>duration</th>\n",
       "      <th>ride_id</th>\n",
       "      <th>distance</th>\n",
       "      <th>ride_charge</th>\n",
       "      <th>misc_charge</th>\n",
       "      <th>total_fare</th>\n",
       "      <th>payment_method</th>\n",
       "      <th>hour</th>\n",
       "    </tr>\n",
       "  </thead>\n",
       "  <tbody>\n",
       "    <tr>\n",
       "      <th>0</th>\n",
       "      <td>cab economy</td>\n",
       "      <td>2024-07-15</td>\n",
       "      <td>1900-01-01 08:30:40.542646</td>\n",
       "      <td>completed</td>\n",
       "      <td>Balagere Harbor</td>\n",
       "      <td>Harohalli Nagar</td>\n",
       "      <td>39</td>\n",
       "      <td>RD3161218751875354</td>\n",
       "      <td>27.21</td>\n",
       "      <td>764.83</td>\n",
       "      <td>31.51</td>\n",
       "      <td>796.34</td>\n",
       "      <td>Amazon Pay</td>\n",
       "      <td>8</td>\n",
       "    </tr>\n",
       "    <tr>\n",
       "      <th>1</th>\n",
       "      <td>auto</td>\n",
       "      <td>2024-07-05</td>\n",
       "      <td>1900-01-01 23:36:51.542646</td>\n",
       "      <td>completed</td>\n",
       "      <td>Basavanagudi 3rd Block</td>\n",
       "      <td>Bikasipura 1st Stage</td>\n",
       "      <td>89</td>\n",
       "      <td>RD8171514284594096</td>\n",
       "      <td>34.03</td>\n",
       "      <td>314.83</td>\n",
       "      <td>49.52</td>\n",
       "      <td>364.35</td>\n",
       "      <td>Paytm</td>\n",
       "      <td>23</td>\n",
       "    </tr>\n",
       "    <tr>\n",
       "      <th>2</th>\n",
       "      <td>auto</td>\n",
       "      <td>2024-07-23</td>\n",
       "      <td>1900-01-01 11:05:37.542646</td>\n",
       "      <td>cancelled</td>\n",
       "      <td>Babusapalya Cove</td>\n",
       "      <td>Kothaguda Terrace</td>\n",
       "      <td>25</td>\n",
       "      <td>RD9376481122237926</td>\n",
       "      <td>20.24</td>\n",
       "      <td>-1.00</td>\n",
       "      <td>-1.00</td>\n",
       "      <td>-1.00</td>\n",
       "      <td>Not Applicable</td>\n",
       "      <td>11</td>\n",
       "    </tr>\n",
       "    <tr>\n",
       "      <th>3</th>\n",
       "      <td>cab economy</td>\n",
       "      <td>2024-06-24</td>\n",
       "      <td>1900-01-01 08:45:10.542646</td>\n",
       "      <td>completed</td>\n",
       "      <td>Mahadevapura Mews</td>\n",
       "      <td>Kanakapura Arc</td>\n",
       "      <td>89</td>\n",
       "      <td>RD3676889143182765</td>\n",
       "      <td>31.17</td>\n",
       "      <td>484.73</td>\n",
       "      <td>15.84</td>\n",
       "      <td>500.57</td>\n",
       "      <td>QR scan</td>\n",
       "      <td>8</td>\n",
       "    </tr>\n",
       "    <tr>\n",
       "      <th>4</th>\n",
       "      <td>cab economy</td>\n",
       "      <td>2024-07-15</td>\n",
       "      <td>1900-01-01 00:26:44.542646</td>\n",
       "      <td>completed</td>\n",
       "      <td>Ganganagar Cove</td>\n",
       "      <td>Basaveshwaranagar Colony</td>\n",
       "      <td>95</td>\n",
       "      <td>RD6639410275948084</td>\n",
       "      <td>27.21</td>\n",
       "      <td>663.50</td>\n",
       "      <td>14.13</td>\n",
       "      <td>677.63</td>\n",
       "      <td>Amazon Pay</td>\n",
       "      <td>0</td>\n",
       "    </tr>\n",
       "  </tbody>\n",
       "</table>\n",
       "</div>"
      ],
      "text/plain": [
       "      services        date                       time ride_status  \\\n",
       "0  cab economy  2024-07-15 1900-01-01 08:30:40.542646   completed   \n",
       "1         auto  2024-07-05 1900-01-01 23:36:51.542646   completed   \n",
       "2         auto  2024-07-23 1900-01-01 11:05:37.542646   cancelled   \n",
       "3  cab economy  2024-06-24 1900-01-01 08:45:10.542646   completed   \n",
       "4  cab economy  2024-07-15 1900-01-01 00:26:44.542646   completed   \n",
       "\n",
       "                   source               destination  duration  \\\n",
       "0         Balagere Harbor           Harohalli Nagar        39   \n",
       "1  Basavanagudi 3rd Block      Bikasipura 1st Stage        89   \n",
       "2        Babusapalya Cove         Kothaguda Terrace        25   \n",
       "3       Mahadevapura Mews            Kanakapura Arc        89   \n",
       "4         Ganganagar Cove  Basaveshwaranagar Colony        95   \n",
       "\n",
       "              ride_id  distance  ride_charge  misc_charge  total_fare  \\\n",
       "0  RD3161218751875354     27.21       764.83        31.51      796.34   \n",
       "1  RD8171514284594096     34.03       314.83        49.52      364.35   \n",
       "2  RD9376481122237926     20.24        -1.00        -1.00       -1.00   \n",
       "3  RD3676889143182765     31.17       484.73        15.84      500.57   \n",
       "4  RD6639410275948084     27.21       663.50        14.13      677.63   \n",
       "\n",
       "   payment_method  hour  \n",
       "0      Amazon Pay     8  \n",
       "1           Paytm    23  \n",
       "2  Not Applicable    11  \n",
       "3         QR scan     8  \n",
       "4      Amazon Pay     0  "
      ]
     },
     "execution_count": 33,
     "metadata": {},
     "output_type": "execute_result"
    }
   ],
   "source": [
    "# Converting 'time' column to datetime format, handling fractional seconds\n",
    "df['time'] = pd.to_datetime(df['time'], format='%H:%M:%S.%f', errors='coerce')\n",
    "\n",
    "# Extracting hour from the 'time' column\n",
    "df['hour'] = df['time'].dt.hour\n",
    "\n",
    "# Verifying the changes\n",
    "df.head()\n"
   ]
  },
  {
   "cell_type": "code",
   "execution_count": 35,
   "id": "bbd51bde-0a3e-4c21-bf3b-0e35e96039c4",
   "metadata": {},
   "outputs": [
    {
     "data": {
      "text/html": [
       "<div>\n",
       "<style scoped>\n",
       "    .dataframe tbody tr th:only-of-type {\n",
       "        vertical-align: middle;\n",
       "    }\n",
       "\n",
       "    .dataframe tbody tr th {\n",
       "        vertical-align: top;\n",
       "    }\n",
       "\n",
       "    .dataframe thead th {\n",
       "        text-align: right;\n",
       "    }\n",
       "</style>\n",
       "<table border=\"1\" class=\"dataframe\">\n",
       "  <thead>\n",
       "    <tr style=\"text-align: right;\">\n",
       "      <th></th>\n",
       "      <th>services</th>\n",
       "      <th>date</th>\n",
       "      <th>time</th>\n",
       "      <th>ride_status</th>\n",
       "      <th>source</th>\n",
       "      <th>destination</th>\n",
       "      <th>duration</th>\n",
       "      <th>ride_id</th>\n",
       "      <th>distance</th>\n",
       "      <th>ride_charge</th>\n",
       "      <th>misc_charge</th>\n",
       "      <th>total_fare</th>\n",
       "      <th>payment_method</th>\n",
       "      <th>hour</th>\n",
       "      <th>day_of_week</th>\n",
       "      <th>day_name</th>\n",
       "    </tr>\n",
       "  </thead>\n",
       "  <tbody>\n",
       "    <tr>\n",
       "      <th>0</th>\n",
       "      <td>cab economy</td>\n",
       "      <td>2024-07-15</td>\n",
       "      <td>1900-01-01 08:30:40.542646</td>\n",
       "      <td>completed</td>\n",
       "      <td>Balagere Harbor</td>\n",
       "      <td>Harohalli Nagar</td>\n",
       "      <td>39</td>\n",
       "      <td>RD3161218751875354</td>\n",
       "      <td>27.21</td>\n",
       "      <td>764.83</td>\n",
       "      <td>31.51</td>\n",
       "      <td>796.34</td>\n",
       "      <td>Amazon Pay</td>\n",
       "      <td>8</td>\n",
       "      <td>0</td>\n",
       "      <td>Monday</td>\n",
       "    </tr>\n",
       "    <tr>\n",
       "      <th>1</th>\n",
       "      <td>auto</td>\n",
       "      <td>2024-07-05</td>\n",
       "      <td>1900-01-01 23:36:51.542646</td>\n",
       "      <td>completed</td>\n",
       "      <td>Basavanagudi 3rd Block</td>\n",
       "      <td>Bikasipura 1st Stage</td>\n",
       "      <td>89</td>\n",
       "      <td>RD8171514284594096</td>\n",
       "      <td>34.03</td>\n",
       "      <td>314.83</td>\n",
       "      <td>49.52</td>\n",
       "      <td>364.35</td>\n",
       "      <td>Paytm</td>\n",
       "      <td>23</td>\n",
       "      <td>4</td>\n",
       "      <td>Friday</td>\n",
       "    </tr>\n",
       "    <tr>\n",
       "      <th>2</th>\n",
       "      <td>auto</td>\n",
       "      <td>2024-07-23</td>\n",
       "      <td>1900-01-01 11:05:37.542646</td>\n",
       "      <td>cancelled</td>\n",
       "      <td>Babusapalya Cove</td>\n",
       "      <td>Kothaguda Terrace</td>\n",
       "      <td>25</td>\n",
       "      <td>RD9376481122237926</td>\n",
       "      <td>20.24</td>\n",
       "      <td>-1.00</td>\n",
       "      <td>-1.00</td>\n",
       "      <td>-1.00</td>\n",
       "      <td>Not Applicable</td>\n",
       "      <td>11</td>\n",
       "      <td>1</td>\n",
       "      <td>Tuesday</td>\n",
       "    </tr>\n",
       "    <tr>\n",
       "      <th>3</th>\n",
       "      <td>cab economy</td>\n",
       "      <td>2024-06-24</td>\n",
       "      <td>1900-01-01 08:45:10.542646</td>\n",
       "      <td>completed</td>\n",
       "      <td>Mahadevapura Mews</td>\n",
       "      <td>Kanakapura Arc</td>\n",
       "      <td>89</td>\n",
       "      <td>RD3676889143182765</td>\n",
       "      <td>31.17</td>\n",
       "      <td>484.73</td>\n",
       "      <td>15.84</td>\n",
       "      <td>500.57</td>\n",
       "      <td>QR scan</td>\n",
       "      <td>8</td>\n",
       "      <td>0</td>\n",
       "      <td>Monday</td>\n",
       "    </tr>\n",
       "    <tr>\n",
       "      <th>4</th>\n",
       "      <td>cab economy</td>\n",
       "      <td>2024-07-15</td>\n",
       "      <td>1900-01-01 00:26:44.542646</td>\n",
       "      <td>completed</td>\n",
       "      <td>Ganganagar Cove</td>\n",
       "      <td>Basaveshwaranagar Colony</td>\n",
       "      <td>95</td>\n",
       "      <td>RD6639410275948084</td>\n",
       "      <td>27.21</td>\n",
       "      <td>663.50</td>\n",
       "      <td>14.13</td>\n",
       "      <td>677.63</td>\n",
       "      <td>Amazon Pay</td>\n",
       "      <td>0</td>\n",
       "      <td>0</td>\n",
       "      <td>Monday</td>\n",
       "    </tr>\n",
       "  </tbody>\n",
       "</table>\n",
       "</div>"
      ],
      "text/plain": [
       "      services       date                       time ride_status  \\\n",
       "0  cab economy 2024-07-15 1900-01-01 08:30:40.542646   completed   \n",
       "1         auto 2024-07-05 1900-01-01 23:36:51.542646   completed   \n",
       "2         auto 2024-07-23 1900-01-01 11:05:37.542646   cancelled   \n",
       "3  cab economy 2024-06-24 1900-01-01 08:45:10.542646   completed   \n",
       "4  cab economy 2024-07-15 1900-01-01 00:26:44.542646   completed   \n",
       "\n",
       "                   source               destination  duration  \\\n",
       "0         Balagere Harbor           Harohalli Nagar        39   \n",
       "1  Basavanagudi 3rd Block      Bikasipura 1st Stage        89   \n",
       "2        Babusapalya Cove         Kothaguda Terrace        25   \n",
       "3       Mahadevapura Mews            Kanakapura Arc        89   \n",
       "4         Ganganagar Cove  Basaveshwaranagar Colony        95   \n",
       "\n",
       "              ride_id  distance  ride_charge  misc_charge  total_fare  \\\n",
       "0  RD3161218751875354     27.21       764.83        31.51      796.34   \n",
       "1  RD8171514284594096     34.03       314.83        49.52      364.35   \n",
       "2  RD9376481122237926     20.24        -1.00        -1.00       -1.00   \n",
       "3  RD3676889143182765     31.17       484.73        15.84      500.57   \n",
       "4  RD6639410275948084     27.21       663.50        14.13      677.63   \n",
       "\n",
       "   payment_method  hour  day_of_week day_name  \n",
       "0      Amazon Pay     8            0   Monday  \n",
       "1           Paytm    23            4   Friday  \n",
       "2  Not Applicable    11            1  Tuesday  \n",
       "3         QR scan     8            0   Monday  \n",
       "4      Amazon Pay     0            0   Monday  "
      ]
     },
     "execution_count": 35,
     "metadata": {},
     "output_type": "execute_result"
    }
   ],
   "source": [
    "# Converting 'date' column to datetime format\n",
    "df['date'] = pd.to_datetime(df['date'], errors='coerce')\n",
    "\n",
    "# Extracting day of the week (0=Monday, 6=Sunday)\n",
    "df['day_of_week'] = df['date'].dt.dayofweek\n",
    "\n",
    "# Optionally, if you want day names instead of numbers:\n",
    "df['day_name'] = df['date'].dt.day_name()\n",
    "\n",
    "# Verifying the changes\n",
    "df.head()\n"
   ]
  },
  {
   "cell_type": "markdown",
   "id": "214e9734-93fe-4bee-a4a2-f48adde83e9d",
   "metadata": {},
   "source": [
    "#### Drop the columns that are not further required"
   ]
  },
  {
   "cell_type": "code",
   "execution_count": 38,
   "id": "99156765-afe2-4227-8791-ef7ac408ec9d",
   "metadata": {},
   "outputs": [
    {
     "name": "stdout",
     "output_type": "stream",
     "text": [
      "Index(['services', 'ride_status', 'source', 'destination', 'duration',\n",
      "       'ride_id', 'distance', 'ride_charge', 'misc_charge', 'total_fare',\n",
      "       'payment_method', 'hour', 'day_of_week', 'day_name'],\n",
      "      dtype='object')\n"
     ]
    }
   ],
   "source": [
    "# Drop columns that are not needed for prediction\n",
    "df = df.drop(columns=['date', 'time'])\n",
    "\n",
    "# Check remaining columns\n",
    "print(df.columns)\n"
   ]
  },
  {
   "cell_type": "markdown",
   "id": "d9e8792b-a98d-4fae-a8b2-818747b35e30",
   "metadata": {},
   "source": [
    "#### Checking for Outliers through boxplot"
   ]
  },
  {
   "cell_type": "code",
   "execution_count": 33,
   "id": "297300de-097b-4d58-acf0-b6a2c4c7cf2f",
   "metadata": {},
   "outputs": [
    {
     "data": {
      "image/png": "[encoded data removed]",
      "text/plain": [
       "<Figure size 1000x400 with 2 Axes>"
      ]
     },
     "metadata": {},
     "output_type": "display_data"
    }
   ],
   "source": [
    "import matplotlib.pyplot as plt\n",
    "import seaborn as sns\n",
    "\n",
    "# Creating boxplots for duration and distance\n",
    "plt.figure(figsize=(10, 4))\n",
    "\n",
    "plt.subplot(1, 2, 1)\n",
    "sns.boxplot(y=df['duration'])\n",
    "plt.title(\"Boxplot of Duration\")\n",
    "\n",
    "plt.subplot(1, 2, 2)\n",
    "sns.boxplot(y=df['distance'])\n",
    "plt.title(\"Boxplot of Distance\")\n",
    "plt.show()\n"
   ]
  },
  {
   "cell_type": "code",
   "execution_count": 47,
   "id": "d60c7d2f-2d4f-4e1c-8165-5354d013d8b9",
   "metadata": {},
   "outputs": [
    {
     "name": "stdout",
     "output_type": "stream",
     "text": [
      "Z-score outliers in Duration: 0\n",
      "Z-score outliers in Distance: 0\n"
     ]
    }
   ],
   "source": [
    "from scipy import stats\n",
    "\n",
    "# Detect outliers using Z-score\n",
    "df['z_score_duration'] = stats.zscore(df['duration'])\n",
    "df['z_score_distance'] = stats.zscore(df['distance'])\n",
    "\n",
    "# Filtering data points with Z-score > 3 or < -3\n",
    "outliers_z_duration = df[(df['z_score_duration'] > 3) | (df['z_score_duration'] < -3)]\n",
    "outliers_z_distance = df[(df['z_score_distance'] > 3) | (df['z_score_distance'] < -3)]\n",
    "\n",
    "print(f\"Z-score outliers in Duration: {len(outliers_z_duration)}\")\n",
    "print(f\"Z-score outliers in Distance: {len(outliers_z_distance)}\")\n"
   ]
  },
  {
   "cell_type": "code",
   "execution_count": 35,
   "id": "168ef940-50ba-4bce-88ea-2944e91ff87a",
   "metadata": {},
   "outputs": [
    {
     "name": "stdout",
     "output_type": "stream",
     "text": [
      "Number of outliers in 'duration': 0\n",
      "Number of outliers in 'distance': 0\n"
     ]
    }
   ],
   "source": [
    "# Checking for outliers in 'duration'\n",
    "Q1 = df['duration'].quantile(0.25)\n",
    "Q3 = df['duration'].quantile(0.75)\n",
    "IQR = Q3 - Q1\n",
    "\n",
    "lower_bound = Q1 - 1.5 * IQR\n",
    "upper_bound = Q3 + 1.5 * IQR\n",
    "\n",
    "outliers_duration = df[(df['duration'] < lower_bound) | (df['duration'] > upper_bound)]\n",
    "print(f\"Number of outliers in 'duration': {len(outliers_duration)}\")\n",
    "\n",
    "# Checking for outliers in 'distance'\n",
    "Q1 = df['distance'].quantile(0.25)\n",
    "Q3 = df['distance'].quantile(0.75)\n",
    "IQR = Q3 - Q1\n",
    "\n",
    "lower_bound = Q1 - 1.5 * IQR\n",
    "upper_bound = Q3 + 1.5 * IQR\n",
    "\n",
    "outliers_distance = df[(df['distance'] < lower_bound) | (df['distance'] > upper_bound)]\n",
    "print(f\"Number of outliers in 'distance': {len(outliers_distance)}\")\n"
   ]
  },
  {
   "cell_type": "code",
   "execution_count": 37,
   "id": "6bf94dbd-d7a1-46ea-961b-fd9743e657b8",
   "metadata": {},
   "outputs": [
    {
     "name": "stdout",
     "output_type": "stream",
     "text": [
      "   hour  hour_standardized  hour_normalized\n",
      "0     8          -0.506419         0.347826\n",
      "1    23           1.670118         1.000000\n",
      "2    11          -0.071112         0.478261\n",
      "3     8          -0.506419         0.347826\n",
      "4     0          -1.667239         0.000000\n"
     ]
    }
   ],
   "source": [
    "from sklearn.preprocessing import StandardScaler, MinMaxScaler\n",
    "\n",
    "# Create scalers\n",
    "scaler_standard = StandardScaler()\n",
    "scaler_minmax = MinMaxScaler()\n",
    "\n",
    "# Apply scalers\n",
    "df['hour_standardized'] = scaler_standard.fit_transform(df[['hour']])\n",
    "df['hour_normalized'] = scaler_minmax.fit_transform(df[['hour']])\n",
    "\n",
    "# Compare original vs scaled values\n",
    "print(df[['hour', 'hour_standardized', 'hour_normalized']].head())\n"
   ]
  },
  {
   "cell_type": "code",
   "execution_count": 47,
   "id": "4970de00-46f1-44ae-9f09-740228bf6fbd",
   "metadata": {},
   "outputs": [
    {
     "data": {
      "text/plain": [
       "services              object\n",
       "ride_status           object\n",
       "source                object\n",
       "destination           object\n",
       "duration               int64\n",
       "ride_id               object\n",
       "distance             float64\n",
       "ride_charge          float64\n",
       "misc_charge          float64\n",
       "total_fare           float64\n",
       "payment_method        object\n",
       "hour                   int32\n",
       "day_of_week            int32\n",
       "day_name              object\n",
       "hour_standardized    float64\n",
       "hour_normalized      float64\n",
       "dtype: object"
      ]
     },
     "execution_count": 47,
     "metadata": {},
     "output_type": "execute_result"
    }
   ],
   "source": [
    "df.dtypes"
   ]
  },
  {
   "cell_type": "code",
   "execution_count": 49,
   "id": "e77aa1d8-f1ec-46d4-a3c0-2f2f8f5493d2",
   "metadata": {},
   "outputs": [
    {
     "name": "stdout",
     "output_type": "stream",
     "text": [
      "Invalid 'duration' values: 0\n",
      "Invalid 'distance' values: 0\n",
      "Data after filtering invalid values: (50000, 16)\n"
     ]
    }
   ],
   "source": [
    "# Checking for zero or negative values in 'duration' and 'distance' (excluding placeholder -1)\n",
    "invalid_duration_count = df[(df['duration'] <= 0) & (df['duration'] != -1)].shape[0]\n",
    "invalid_distance_count = df[(df['distance'] <= 0) & (df['distance'] != -1)].shape[0]\n",
    "\n",
    "# Display the counts\n",
    "print(f\"Invalid 'duration' values: {invalid_duration_count}\")\n",
    "print(f\"Invalid 'distance' values: {invalid_distance_count}\")\n",
    "\n",
    "# Removing invalid values (excluding placeholder -1 for canceled rides)\n",
    "df = df[(df['duration'] > 0) | (df['duration'] == -1)]\n",
    "df = df[(df['distance'] > 0) | (df['distance'] == -1)]\n",
    "\n",
    "# Display updated shape of the dataset\n",
    "print(f\"Data after filtering invalid values: {df.shape}\")\n"
   ]
  },
  {
   "cell_type": "code",
   "execution_count": 51,
   "id": "dc486178-9f5d-47f9-b27a-474e1c13c1e5",
   "metadata": {},
   "outputs": [
    {
     "name": "stdout",
     "output_type": "stream",
     "text": [
      "Unique values in 'ride_status': ['completed' 'cancelled']\n"
     ]
    }
   ],
   "source": [
    "# Checking unique values in 'ride_status' column\n",
    "unique_statuses = df['ride_status'].unique()\n",
    "\n",
    "# Displaying unique ride status values\n",
    "print(\"Unique values in 'ride_status':\", unique_statuses)\n"
   ]
  },
  {
   "cell_type": "code",
   "execution_count": 54,
   "id": "c6df0ec3-34d6-46df-999f-687810551033",
   "metadata": {},
   "outputs": [
    {
     "name": "stdout",
     "output_type": "stream",
     "text": [
      "   hour             source  ride_count\n",
      "0     0  Adugodi 2nd Stage           1\n",
      "1     0  Adugodi 4th Block           1\n",
      "2     0  Adugodi 6th Block           1\n",
      "3     0        Adugodi Bay           1\n",
      "4     0    Adugodi Cutting           1\n",
      "5     0     Adugodi Estate           1\n",
      "6     0      Adugodi Nagar           1\n",
      "7     0       Adugodi Park           1\n",
      "8     0       Adugodi Pass           1\n",
      "9     0      Adugodi Trail           1\n"
     ]
    }
   ],
   "source": [
    "# Grouping the data to count the number of rides per unique combination of features\n",
    "df_grouped = df.groupby(['hour', 'source', ]).size().reset_index(name='ride_count')\n",
    "\n",
    "# Display the first few rows\n",
    "print(df_grouped.head(10))\n"
   ]
  },
  {
   "cell_type": "code",
   "execution_count": 56,
   "id": "e9356b6c-8057-4b9b-95fc-2810c52585c4",
   "metadata": {},
   "outputs": [],
   "source": [
    "df = df_grouped.copy()\n"
   ]
  },
  {
   "cell_type": "code",
   "execution_count": 58,
   "id": "50981306-5bd1-4c60-94c3-265844f21fa5",
   "metadata": {},
   "outputs": [
    {
     "name": "stdout",
     "output_type": "stream",
     "text": [
      "Index(['hour', 'source', 'ride_count'], dtype='object')\n"
     ]
    }
   ],
   "source": [
    "\n",
    "print(df.columns)  # Check available columns\n"
   ]
  },
  {
   "cell_type": "code",
   "execution_count": 60,
   "id": "55526b5c-1a50-418f-b0be-d15b7eea03be",
   "metadata": {},
   "outputs": [
    {
     "name": "stdout",
     "output_type": "stream",
     "text": [
      "Index(['hour', 'source', 'ride_count'], dtype='object')\n",
      "Index(['hour', 'source', 'ride_count'], dtype='object')\n",
      "   hour             source  ride_count\n",
      "0     0  Adugodi 2nd Stage           1\n",
      "1     0  Adugodi 4th Block           1\n",
      "2     0  Adugodi 6th Block           1\n",
      "3     0        Adugodi Bay           1\n",
      "4     0    Adugodi Cutting           1\n"
     ]
    }
   ],
   "source": [
    "print(df_grouped.columns)  # What are the actual column names?\n",
    "print(df.columns)  # Does 'hour' and 'source' exist in the original DataFrame?\n",
    "print(df_grouped.head())  # Show the first few rows\n"
   ]
  },
  {
   "cell_type": "code",
   "execution_count": 62,
   "id": "d2a4e2a2-d0af-4e3a-8700-b9d1415ff21f",
   "metadata": {},
   "outputs": [
    {
     "name": "stdout",
     "output_type": "stream",
     "text": [
      "count    46163.000000\n",
      "mean         1.083119\n",
      "std          0.292597\n",
      "min          1.000000\n",
      "25%          1.000000\n",
      "50%          1.000000\n",
      "75%          1.000000\n",
      "max          4.000000\n",
      "Name: ride_count, dtype: float64\n",
      "ride_count\n",
      "1    42534\n",
      "2     3430\n",
      "3      190\n",
      "4        9\n",
      "Name: count, dtype: int64\n"
     ]
    }
   ],
   "source": [
    "print(df['ride_count'].describe())\n",
    "print(df['ride_count'].value_counts().head(10))  # See the most common values\n"
   ]
  },
  {
   "cell_type": "code",
   "execution_count": 64,
   "id": "372e4660-50b2-44cb-9b89-0c8a20720541",
   "metadata": {},
   "outputs": [
    {
     "name": "stdout",
     "output_type": "stream",
     "text": [
      "demand_level\n",
      "Low       42534\n",
      "Medium     3430\n",
      "High        199\n",
      "Name: count, dtype: int64\n"
     ]
    }
   ],
   "source": [
    "# Creating demand levels based on ride_count\n",
    "def categorize_demand(count):\n",
    "    if count == 1:\n",
    "        return 'Low'\n",
    "    elif count == 2:\n",
    "        return 'Medium'\n",
    "    else:\n",
    "        return 'High'\n",
    "\n",
    "# Apply the function to create a new column\n",
    "df['demand_level'] = df['ride_count'].apply(categorize_demand)\n",
    "\n",
    "# Checking the distribution of demand levels\n",
    "print(df['demand_level'].value_counts())\n"
   ]
  },
  {
   "cell_type": "code",
   "execution_count": 67,
   "id": "69ba0782-13a5-4599-a2dd-1b1000719372",
   "metadata": {},
   "outputs": [
    {
     "name": "stdout",
     "output_type": "stream",
     "text": [
      "Training data shape: (36930, 12983)\n",
      "Testing data shape: (9233, 12983)\n"
     ]
    }
   ],
   "source": [
    "from sklearn.model_selection import train_test_split\n",
    "from sklearn.preprocessing import OneHotEncoder\n",
    "\n",
    "# Selecting features and target\n",
    "X = df[['hour', 'source']]  # Features\n",
    "y = df['demand_level']      # Target variable\n",
    "\n",
    "# One-hot encoding for 'source'\n",
    "encoder = OneHotEncoder(handle_unknown='ignore', sparse_output=False)\n",
    "X_encoded = encoder.fit_transform(df[['source']])\n",
    "\n",
    "# Convert encoded features to DataFrame\n",
    "X_encoded_df = pd.DataFrame(X_encoded, columns=encoder.get_feature_names_out(['source']))\n",
    "\n",
    "# Concatenate encoded features with 'hour'\n",
    "X_final = pd.concat([df[['hour']], X_encoded_df], axis=1)\n",
    "\n",
    "# Splitting into training and test sets\n",
    "X_train, X_test, y_train, y_test = train_test_split(X_final, y, test_size=0.2, random_state=42, stratify=y)\n",
    "\n",
    "# Display dataset shapes\n",
    "print(f\"Training data shape: {X_train.shape}\")\n",
    "print(f\"Testing data shape: {X_test.shape}\")\n"
   ]
  },
  {
   "cell_type": "code",
   "execution_count": null,
   "id": "323fc0da-7a29-49b0-9405-cb807a3f962d",
   "metadata": {},
   "outputs": [],
   "source": []
  }
 ],
 "metadata": {
  "kernelspec": {
   "display_name": "Python 3 (ipykernel)",
   "language": "python",
   "name": "python3"
  },
  "language_info": {
   "codemirror_mode": {
    "name": "ipython",
    "version": 3
   },
   "file_extension": ".py",
   "mimetype": "text/x-python",
   "name": "python",
   "nbconvert_exporter": "python",
   "pygments_lexer": "ipython3",
   "version": "3.12.4"
  }
 },
 "nbformat": 4,
 "nbformat_minor": 5
}
